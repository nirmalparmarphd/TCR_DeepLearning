{
 "cells": [
  {
   "cell_type": "markdown",
   "metadata": {},
   "source": [
    "# Deep learning model"
   ]
  },
  {
   "cell_type": "code",
   "execution_count": 5,
   "metadata": {},
   "outputs": [],
   "source": [
    "import numpy as np\n",
    "import pandas as pd\n",
    "import tensorflow as tf"
   ]
  },
  {
   "cell_type": "code",
   "execution_count": 10,
   "metadata": {},
   "outputs": [
    {
     "name": "stderr",
     "output_type": "stream",
     "text": [
      "C:\\Users\\parmarn\\AppData\\Local\\Temp\\ipykernel_14640\\733935376.py:4: DeprecationWarning: `np.float` is a deprecated alias for the builtin `float`. To silence this warning, use `float` by itself. Doing this will not modify any behavior and is safe. If you specifically wanted the numpy scalar type, use `np.float64` here.\n",
      "Deprecated in NumPy 1.20; for more details and guidance: https://numpy.org/devdocs/release/1.20.0-notes.html#deprecations\n",
      "  train_inputs = npz['input'].astype(np.float)\n",
      "C:\\Users\\parmarn\\AppData\\Local\\Temp\\ipykernel_14640\\733935376.py:5: DeprecationWarning: `np.float` is a deprecated alias for the builtin `float`. To silence this warning, use `float` by itself. Doing this will not modify any behavior and is safe. If you specifically wanted the numpy scalar type, use `np.float64` here.\n",
      "Deprecated in NumPy 1.20; for more details and guidance: https://numpy.org/devdocs/release/1.20.0-notes.html#deprecations\n",
      "  train_targets = npz['targets'].astype(np.float)\n",
      "C:\\Users\\parmarn\\AppData\\Local\\Temp\\ipykernel_14640\\733935376.py:8: DeprecationWarning: `np.float` is a deprecated alias for the builtin `float`. To silence this warning, use `float` by itself. Doing this will not modify any behavior and is safe. If you specifically wanted the numpy scalar type, use `np.float64` here.\n",
      "Deprecated in NumPy 1.20; for more details and guidance: https://numpy.org/devdocs/release/1.20.0-notes.html#deprecations\n",
      "  validation_inputs, validation_targets = npz['input'].astype(np.float), npz['targets'].astype(np.float)\n",
      "C:\\Users\\parmarn\\AppData\\Local\\Temp\\ipykernel_14640\\733935376.py:11: DeprecationWarning: `np.float` is a deprecated alias for the builtin `float`. To silence this warning, use `float` by itself. Doing this will not modify any behavior and is safe. If you specifically wanted the numpy scalar type, use `np.float64` here.\n",
      "Deprecated in NumPy 1.20; for more details and guidance: https://numpy.org/devdocs/release/1.20.0-notes.html#deprecations\n",
      "  test_inputs, test_targets = npz['input'].astype(np.float), npz['targets'].astype(np.float)\n"
     ]
    }
   ],
   "source": [
    "# data loading from .npz generated from tcr_data_process.ipynb\n",
    "# loading train data\n",
    "npz = np.load('tcr_wop_train.npz')\n",
    "train_inputs = npz['input'].astype(np.float)\n",
    "train_targets = npz['targets'].astype(np.float)\n",
    "# loading validation data\n",
    "npz = np.load('tcr_wop_validation.npz')\n",
    "validation_inputs, validation_targets = npz['input'].astype(np.float), npz['targets'].astype(np.float)\n",
    "\n",
    "npz = np.load('tcr_wop_test.npz')\n",
    "test_inputs, test_targets = npz['input'].astype(np.float), npz['targets'].astype(np.float)"
   ]
  },
  {
   "cell_type": "markdown",
   "metadata": {},
   "source": [
    "# ANN Model"
   ]
  },
  {
   "cell_type": "markdown",
   "metadata": {},
   "source": [
    "Outline, Optimizer, Loss Function, Early Stoping and Traing rate"
   ]
  },
  {
   "cell_type": "code",
   "execution_count": 11,
   "metadata": {},
   "outputs": [],
   "source": [
    "# NN model prep\n",
    "input_size =4\n",
    "output_size = 2\n",
    "hidden_layer_size = 10\n",
    "\n",
    "model = tf.keras.Sequential([\n",
    "    tf.keras.layers.Dense(hidden_layer_size, activation='relu'),\n",
    "    tf.keras.layers.Dense(hidden_layer_size, activation='relu'),\n",
    "    tf.keras.layers.Dense(output_size, activation='linear')\n",
    "])\n"
   ]
  },
  {
   "cell_type": "code",
   "execution_count": 12,
   "metadata": {},
   "outputs": [],
   "source": [
    "# model prep, optimizer and loss function\n",
    "optimizer = tf.keras.optimizers.Adam(learning_rate=0.001)\n",
    "model.compile(optimizer, loss=tf.keras.losses.MeanSquaredError(),metrics=[tf.keras.metrics.RootMeanSquaredError()])\n"
   ]
  },
  {
   "cell_type": "code",
   "execution_count": 13,
   "metadata": {},
   "outputs": [],
   "source": [
    "# Training\n",
    "BATCH_SIZE = 1\n",
    "MAX_EPOCHS = 100\n",
    "early_stopping = tf.keras.callbacks.EarlyStopping(patience=2)"
   ]
  },
  {
   "cell_type": "code",
   "execution_count": 14,
   "metadata": {},
   "outputs": [
    {
     "name": "stdout",
     "output_type": "stream",
     "text": [
      "Epoch 1/100\n",
      "49/49 - 2s - loss: 202.8214 - root_mean_squared_error: 14.2415 - val_loss: 101.6003 - val_root_mean_squared_error: 10.0797 - 2s/epoch - 37ms/step\n",
      "Epoch 2/100\n",
      "49/49 - 0s - loss: 195.5809 - root_mean_squared_error: 13.9850 - val_loss: 98.4942 - val_root_mean_squared_error: 9.9244 - 168ms/epoch - 3ms/step\n",
      "Epoch 3/100\n",
      "49/49 - 0s - loss: 190.4438 - root_mean_squared_error: 13.8001 - val_loss: 95.4902 - val_root_mean_squared_error: 9.7719 - 135ms/epoch - 3ms/step\n",
      "Epoch 4/100\n",
      "49/49 - 0s - loss: 185.8174 - root_mean_squared_error: 13.6315 - val_loss: 92.0741 - val_root_mean_squared_error: 9.5955 - 134ms/epoch - 3ms/step\n",
      "Epoch 5/100\n",
      "49/49 - 0s - loss: 180.4506 - root_mean_squared_error: 13.4332 - val_loss: 87.6624 - val_root_mean_squared_error: 9.3628 - 135ms/epoch - 3ms/step\n",
      "Epoch 6/100\n",
      "49/49 - 0s - loss: 172.9946 - root_mean_squared_error: 13.1527 - val_loss: 81.7631 - val_root_mean_squared_error: 9.0423 - 206ms/epoch - 4ms/step\n",
      "Epoch 7/100\n",
      "49/49 - 0s - loss: 161.7352 - root_mean_squared_error: 12.7175 - val_loss: 73.2198 - val_root_mean_squared_error: 8.5569 - 138ms/epoch - 3ms/step\n",
      "Epoch 8/100\n",
      "49/49 - 0s - loss: 143.2254 - root_mean_squared_error: 11.9677 - val_loss: 60.9212 - val_root_mean_squared_error: 7.8052 - 141ms/epoch - 3ms/step\n",
      "Epoch 9/100\n",
      "49/49 - 0s - loss: 113.6959 - root_mean_squared_error: 10.6628 - val_loss: 45.4052 - val_root_mean_squared_error: 6.7383 - 139ms/epoch - 3ms/step\n",
      "Epoch 10/100\n",
      "49/49 - 0s - loss: 77.7716 - root_mean_squared_error: 8.8188 - val_loss: 31.8503 - val_root_mean_squared_error: 5.6436 - 144ms/epoch - 3ms/step\n",
      "Epoch 11/100\n",
      "49/49 - 0s - loss: 44.9146 - root_mean_squared_error: 6.7018 - val_loss: 23.1006 - val_root_mean_squared_error: 4.8063 - 144ms/epoch - 3ms/step\n",
      "Epoch 12/100\n",
      "49/49 - 0s - loss: 25.4058 - root_mean_squared_error: 5.0404 - val_loss: 18.5275 - val_root_mean_squared_error: 4.3044 - 145ms/epoch - 3ms/step\n",
      "Epoch 13/100\n",
      "49/49 - 0s - loss: 17.7859 - root_mean_squared_error: 4.2173 - val_loss: 15.7554 - val_root_mean_squared_error: 3.9693 - 143ms/epoch - 3ms/step\n",
      "Epoch 14/100\n",
      "49/49 - 0s - loss: 14.6902 - root_mean_squared_error: 3.8328 - val_loss: 13.3304 - val_root_mean_squared_error: 3.6511 - 135ms/epoch - 3ms/step\n",
      "Epoch 15/100\n",
      "49/49 - 0s - loss: 12.7981 - root_mean_squared_error: 3.5774 - val_loss: 11.3173 - val_root_mean_squared_error: 3.3641 - 141ms/epoch - 3ms/step\n",
      "Epoch 16/100\n",
      "49/49 - 0s - loss: 11.3273 - root_mean_squared_error: 3.3656 - val_loss: 9.8215 - val_root_mean_squared_error: 3.1339 - 132ms/epoch - 3ms/step\n",
      "Epoch 17/100\n",
      "49/49 - 0s - loss: 10.1213 - root_mean_squared_error: 3.1814 - val_loss: 8.1101 - val_root_mean_squared_error: 2.8478 - 130ms/epoch - 3ms/step\n",
      "Epoch 18/100\n",
      "49/49 - 0s - loss: 9.1233 - root_mean_squared_error: 3.0205 - val_loss: 6.9733 - val_root_mean_squared_error: 2.6407 - 147ms/epoch - 3ms/step\n",
      "Epoch 19/100\n",
      "49/49 - 0s - loss: 8.2199 - root_mean_squared_error: 2.8670 - val_loss: 6.2339 - val_root_mean_squared_error: 2.4968 - 131ms/epoch - 3ms/step\n",
      "Epoch 20/100\n",
      "49/49 - 0s - loss: 7.5175 - root_mean_squared_error: 2.7418 - val_loss: 5.5057 - val_root_mean_squared_error: 2.3464 - 116ms/epoch - 2ms/step\n",
      "Epoch 21/100\n",
      "49/49 - 0s - loss: 6.9881 - root_mean_squared_error: 2.6435 - val_loss: 4.8847 - val_root_mean_squared_error: 2.2101 - 127ms/epoch - 3ms/step\n",
      "Epoch 22/100\n",
      "49/49 - 0s - loss: 6.5033 - root_mean_squared_error: 2.5502 - val_loss: 4.6428 - val_root_mean_squared_error: 2.1547 - 138ms/epoch - 3ms/step\n",
      "Epoch 23/100\n",
      "49/49 - 0s - loss: 6.1074 - root_mean_squared_error: 2.4713 - val_loss: 4.1167 - val_root_mean_squared_error: 2.0290 - 144ms/epoch - 3ms/step\n",
      "Epoch 24/100\n",
      "49/49 - 0s - loss: 5.7984 - root_mean_squared_error: 2.4080 - val_loss: 3.9860 - val_root_mean_squared_error: 1.9965 - 127ms/epoch - 3ms/step\n",
      "Epoch 25/100\n",
      "49/49 - 0s - loss: 5.4889 - root_mean_squared_error: 2.3428 - val_loss: 3.6444 - val_root_mean_squared_error: 1.9090 - 128ms/epoch - 3ms/step\n",
      "Epoch 26/100\n",
      "49/49 - 0s - loss: 5.2427 - root_mean_squared_error: 2.2897 - val_loss: 3.5460 - val_root_mean_squared_error: 1.8831 - 121ms/epoch - 2ms/step\n",
      "Epoch 27/100\n",
      "49/49 - 0s - loss: 5.0794 - root_mean_squared_error: 2.2538 - val_loss: 3.1711 - val_root_mean_squared_error: 1.7808 - 122ms/epoch - 2ms/step\n",
      "Epoch 28/100\n",
      "49/49 - 0s - loss: 4.8618 - root_mean_squared_error: 2.2049 - val_loss: 3.1533 - val_root_mean_squared_error: 1.7758 - 138ms/epoch - 3ms/step\n",
      "Epoch 29/100\n",
      "49/49 - 0s - loss: 4.6669 - root_mean_squared_error: 2.1603 - val_loss: 3.0892 - val_root_mean_squared_error: 1.7576 - 133ms/epoch - 3ms/step\n",
      "Epoch 30/100\n",
      "49/49 - 0s - loss: 4.5526 - root_mean_squared_error: 2.1337 - val_loss: 2.9422 - val_root_mean_squared_error: 1.7153 - 132ms/epoch - 3ms/step\n",
      "Epoch 31/100\n",
      "49/49 - 0s - loss: 4.4011 - root_mean_squared_error: 2.0979 - val_loss: 3.0421 - val_root_mean_squared_error: 1.7442 - 127ms/epoch - 3ms/step\n",
      "Epoch 32/100\n",
      "49/49 - 0s - loss: 4.3277 - root_mean_squared_error: 2.0803 - val_loss: 2.8323 - val_root_mean_squared_error: 1.6829 - 125ms/epoch - 3ms/step\n",
      "Epoch 33/100\n",
      "49/49 - 0s - loss: 4.1737 - root_mean_squared_error: 2.0430 - val_loss: 2.8286 - val_root_mean_squared_error: 1.6818 - 125ms/epoch - 3ms/step\n",
      "Epoch 34/100\n",
      "49/49 - 0s - loss: 4.1022 - root_mean_squared_error: 2.0254 - val_loss: 2.8959 - val_root_mean_squared_error: 1.7017 - 136ms/epoch - 3ms/step\n",
      "Epoch 35/100\n",
      "49/49 - 0s - loss: 4.0412 - root_mean_squared_error: 2.0103 - val_loss: 2.7933 - val_root_mean_squared_error: 1.6713 - 118ms/epoch - 2ms/step\n",
      "Epoch 36/100\n",
      "49/49 - 0s - loss: 3.9869 - root_mean_squared_error: 1.9967 - val_loss: 2.6630 - val_root_mean_squared_error: 1.6319 - 129ms/epoch - 3ms/step\n",
      "Epoch 37/100\n",
      "49/49 - 0s - loss: 3.9243 - root_mean_squared_error: 1.9810 - val_loss: 2.7813 - val_root_mean_squared_error: 1.6677 - 130ms/epoch - 3ms/step\n",
      "Epoch 38/100\n",
      "49/49 - 0s - loss: 3.8671 - root_mean_squared_error: 1.9665 - val_loss: 2.7718 - val_root_mean_squared_error: 1.6649 - 161ms/epoch - 3ms/step\n"
     ]
    },
    {
     "data": {
      "text/plain": [
       "<keras.callbacks.History at 0x1fbbaca3250>"
      ]
     },
     "execution_count": 14,
     "metadata": {},
     "output_type": "execute_result"
    }
   ],
   "source": [
    "# fit the model\n",
    "model.fit(\n",
    "    train_inputs, train_targets, batch_size=BATCH_SIZE,epochs=MAX_EPOCHS, callbacks=[early_stopping], validation_data=(validation_inputs, validation_targets), verbose=2\n",
    "          )"
   ]
  },
  {
   "cell_type": "markdown",
   "metadata": {},
   "source": [
    "# Model Test"
   ]
  },
  {
   "cell_type": "code",
   "execution_count": 15,
   "metadata": {},
   "outputs": [
    {
     "name": "stdout",
     "output_type": "stream",
     "text": [
      "1/1 [==============================] - 0s 282ms/step - loss: 2.7718 - root_mean_squared_error: 1.6649\n"
     ]
    }
   ],
   "source": [
    "test_loss, test_accuracy = model.evaluate(test_inputs, test_targets)"
   ]
  },
  {
   "cell_type": "code",
   "execution_count": 16,
   "metadata": {},
   "outputs": [
    {
     "name": "stdout",
     "output_type": "stream",
     "text": [
      "\n",
      "Test loss: 2.77. Test accuracy: 166.49%\n"
     ]
    }
   ],
   "source": [
    "print('\\nTest loss: {0:.2f}. Test accuracy: {1:.2f}%'.format(test_loss, test_accuracy*100.))"
   ]
  },
  {
   "cell_type": "code",
   "execution_count": 22,
   "metadata": {},
   "outputs": [
    {
     "name": "stdout",
     "output_type": "stream",
     "text": [
      "1/1 [==============================] - 0s 49ms/step\n"
     ]
    }
   ],
   "source": [
    "prediction = model.predict(test_inputs)\n",
    "prediction = pd.DataFrame(prediction)\n",
    "test_targets = pd.DataFrame(test_targets)\n",
    "\n",
    "result = pd.concat([test_targets, prediction], axis = 1, ignore_index=True)\n",
    "result.columns = ['Targets-dTi', 'Targets-dT','Prediction-dTi', 'Prediction-dT']"
   ]
  },
  {
   "cell_type": "code",
   "execution_count": 23,
   "metadata": {},
   "outputs": [
    {
     "data": {
      "text/html": [
       "<div>\n",
       "<style scoped>\n",
       "    .dataframe tbody tr th:only-of-type {\n",
       "        vertical-align: middle;\n",
       "    }\n",
       "\n",
       "    .dataframe tbody tr th {\n",
       "        vertical-align: top;\n",
       "    }\n",
       "\n",
       "    .dataframe thead th {\n",
       "        text-align: right;\n",
       "    }\n",
       "</style>\n",
       "<table border=\"1\" class=\"dataframe\">\n",
       "  <thead>\n",
       "    <tr style=\"text-align: right;\">\n",
       "      <th></th>\n",
       "      <th>Targets-dTi</th>\n",
       "      <th>Targets-dT</th>\n",
       "      <th>Prediction-dTi</th>\n",
       "      <th>Prediction-dT</th>\n",
       "    </tr>\n",
       "  </thead>\n",
       "  <tbody>\n",
       "    <tr>\n",
       "      <th>0</th>\n",
       "      <td>12.0</td>\n",
       "      <td>0.333333</td>\n",
       "      <td>13.369974</td>\n",
       "      <td>1.417512</td>\n",
       "    </tr>\n",
       "    <tr>\n",
       "      <th>1</th>\n",
       "      <td>11.0</td>\n",
       "      <td>4.666667</td>\n",
       "      <td>8.352830</td>\n",
       "      <td>3.361921</td>\n",
       "    </tr>\n",
       "    <tr>\n",
       "      <th>2</th>\n",
       "      <td>14.0</td>\n",
       "      <td>6.666667</td>\n",
       "      <td>12.310569</td>\n",
       "      <td>4.709759</td>\n",
       "    </tr>\n",
       "    <tr>\n",
       "      <th>3</th>\n",
       "      <td>13.0</td>\n",
       "      <td>1.666667</td>\n",
       "      <td>12.957286</td>\n",
       "      <td>1.311367</td>\n",
       "    </tr>\n",
       "    <tr>\n",
       "      <th>4</th>\n",
       "      <td>14.0</td>\n",
       "      <td>11.333333</td>\n",
       "      <td>16.261000</td>\n",
       "      <td>13.719584</td>\n",
       "    </tr>\n",
       "    <tr>\n",
       "      <th>5</th>\n",
       "      <td>9.0</td>\n",
       "      <td>5.333333</td>\n",
       "      <td>10.736141</td>\n",
       "      <td>7.377071</td>\n",
       "    </tr>\n",
       "    <tr>\n",
       "      <th>6</th>\n",
       "      <td>16.0</td>\n",
       "      <td>0.666667</td>\n",
       "      <td>16.356882</td>\n",
       "      <td>2.117888</td>\n",
       "    </tr>\n",
       "  </tbody>\n",
       "</table>\n",
       "</div>"
      ],
      "text/plain": [
       "   Targets-dTi  Targets-dT  Prediction-dTi  Prediction-dT\n",
       "0         12.0    0.333333       13.369974       1.417512\n",
       "1         11.0    4.666667        8.352830       3.361921\n",
       "2         14.0    6.666667       12.310569       4.709759\n",
       "3         13.0    1.666667       12.957286       1.311367\n",
       "4         14.0   11.333333       16.261000      13.719584\n",
       "5          9.0    5.333333       10.736141       7.377071\n",
       "6         16.0    0.666667       16.356882       2.117888"
      ]
     },
     "execution_count": 23,
     "metadata": {},
     "output_type": "execute_result"
    }
   ],
   "source": [
    "result"
   ]
  },
  {
   "cell_type": "code",
   "execution_count": null,
   "metadata": {},
   "outputs": [],
   "source": []
  },
  {
   "cell_type": "code",
   "execution_count": null,
   "metadata": {},
   "outputs": [],
   "source": []
  }
 ],
 "metadata": {
  "kernelspec": {
   "display_name": "Python 3.10.5 ('.venv': venv)",
   "language": "python",
   "name": "python3"
  },
  "language_info": {
   "codemirror_mode": {
    "name": "ipython",
    "version": 3
   },
   "file_extension": ".py",
   "mimetype": "text/x-python",
   "name": "python",
   "nbconvert_exporter": "python",
   "pygments_lexer": "ipython3",
   "version": "3.10.5"
  },
  "orig_nbformat": 4,
  "vscode": {
   "interpreter": {
    "hash": "a29299b6c1dac157617fcc6953d9255a077e65e2b0788befe1f3c353da47e1bd"
   }
  }
 },
 "nbformat": 4,
 "nbformat_minor": 2
}
